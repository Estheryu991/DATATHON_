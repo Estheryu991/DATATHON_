{
 "cells": [
  {
   "cell_type": "code",
   "execution_count": 1,
   "metadata": {},
   "outputs": [],
   "source": [
    "import json\n",
    "import numpy as np\n",
    "import pandas as pd\n",
    "import os"
   ]
  },
  {
   "cell_type": "code",
   "execution_count": 18,
   "metadata": {},
   "outputs": [
    {
     "data": {
      "text/plain": [
       "['./adobe_csv_augmentation/Cancellation_augmentation.csv',\n",
       " './adobe_csv_augmentation/SecureTripBudget_augmentation.csv',\n",
       " './adobe_csv_augmentation/SecureTripClassic_augmentation.csv',\n",
       " './adobe_csv_augmentation/SecureTripPremiumPlus_augmentation.csv',\n",
       " './adobe_csv_augmentation/SecureTripPremium_augmentation.csv',\n",
       " './adobe_csv_augmentation/TravelProtectionPremiumPlus_augmentation.csv',\n",
       " './adobe_csv_augmentation/TravelProtectionPremium_augmentation.csv']"
      ]
     },
     "execution_count": 18,
     "metadata": {},
     "output_type": "execute_result"
    }
   ],
   "source": [
    "# Importing data\n",
    "\n",
    "files_path_prefix = \"./adobe_csv_augmentation/\"\n",
    "\n",
    "files = ['Cancellation_augmentation.csv',\n",
    " 'SecureTripBudget_augmentation.csv',\n",
    " 'SecureTripClassic_augmentation.csv',\n",
    " 'SecureTripPremiumPlus_augmentation.csv',\n",
    " 'SecureTripPremium_augmentation.csv',\n",
    " 'TravelProtectionPremiumPlus_augmentation.csv',\n",
    " 'TravelProtectionPremium_augmentation.csv']\n",
    "\n",
    "filepaths = [files_path_prefix + file for file in files]\n",
    "\n",
    "# for file in os.listdir(\"./adobe_csv_augmentation\"):\n",
    "#     if(file.endswith(\".csv\")):\n",
    "#         files.append(file)\n",
    "    \n",
    "# files\n"
   ]
  },
  {
   "cell_type": "code",
   "execution_count": 167,
   "metadata": {},
   "outputs": [],
   "source": [
    "merged_data = pd.concat(map(pd.read_csv, filepaths), ignore_index=True)\n",
    "merged_data = merged_data.drop(columns=[\"Unnamed: 0\",\"Page\"])\n",
    "QA_format = merged_data.stack().reset_index()\n",
    "QA_format.reset_index(inplace=True)\n",
    "QA_format[\"ParticipantId\"] = [\"2\" if ele  == \"Question\" else \"1\" for ele in QA_format[\"level_1\"]]\n",
    "QA_format.columns = ['Id', 'Level', 'Type', 'Content', 'ParticipantId']\n",
    "QA_format = QA_format.drop(columns=[\"Level\",\"Type\"])\n",
    "QA_format['Id'] = QA_format['Id'].astype('str')"
   ]
  },
  {
   "cell_type": "code",
   "execution_count": 168,
   "metadata": {
    "scrolled": false
   },
   "outputs": [],
   "source": [
    "# JSON format\n",
    "\n",
    "results = {\"ParticipantId\":[], \"Id\":[], \"Content\":[]}\n",
    "results_all = []\n",
    "for index, rows in QA_format.iterrows():\n",
    "    result = {\"ParticipantId\":rows[\"ParticipantId\"], \"Id\":rows[\"Id\"], \"Content\":rows[\"Content\"]}\n",
    "    results_all.append(result)\n",
    "     \n",
    "with open(\"augmented_results_json_lex.json\", \"w\") as outfile:\n",
    "    json.dump(results_all, outfile)\n"
   ]
  }
 ],
 "metadata": {
  "kernelspec": {
   "display_name": "Python 3",
   "language": "python",
   "name": "python3"
  },
  "language_info": {
   "codemirror_mode": {
    "name": "ipython",
    "version": 3
   },
   "file_extension": ".py",
   "mimetype": "text/x-python",
   "name": "python",
   "nbconvert_exporter": "python",
   "pygments_lexer": "ipython3",
   "version": "3.7.6"
  }
 },
 "nbformat": 4,
 "nbformat_minor": 4
}
