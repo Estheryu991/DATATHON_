{
 "cells": [
  {
   "cell_type": "markdown",
   "id": "ac6bbe7e-0840-4133-b337-812feb5002ec",
   "metadata": {},
   "source": [
    "# Similarity Detection"
   ]
  },
  {
   "cell_type": "markdown",
   "id": "cd079296-5652-458f-a076-6e6dd4c1a665",
   "metadata": {},
   "source": [
    "## 1. Set Root Repo Directory"
   ]
  },
  {
   "cell_type": "code",
   "execution_count": 1,
   "id": "d7b95055-86fc-447e-aa88-7b7dd07a8d66",
   "metadata": {},
   "outputs": [],
   "source": [
    "import os"
   ]
  },
  {
   "cell_type": "code",
   "execution_count": 2,
   "id": "192a0995-ce14-442a-92ba-7a027e24d906",
   "metadata": {},
   "outputs": [],
   "source": [
    "root_repo_dir = os.path.normpath(\"/home/rdbt/Projects_/datathon/2022-Datathon-SAA-Challenge-main\")\n",
    "data_dir = os.path.join(root_repo_dir,\"dataset\")\n",
    "transformed_data_dir = os.path.join(data_dir,\"transformed\")\n",
    "covid_data_set_path = os.path.join(data_dir, \"COVID-19 FAQs | Allianz Global Assistance.json\")\n",
    "travel_data_set_path = os.path.join(data_dir, \"Travel Insurance FAQs | Allianz Global Assistance.json\")\n",
    "pred_dir = os.path.join(root_repo_dir, \"predictions\")"
   ]
  },
  {
   "cell_type": "markdown",
   "id": "ffd5fee2-09eb-4251-97d8-8043d7c7cd75",
   "metadata": {},
   "source": [
    "## 2. Imports"
   ]
  },
  {
   "cell_type": "code",
   "execution_count": 3,
   "id": "6413d62c-b0fd-48ba-87fc-20e441559a02",
   "metadata": {},
   "outputs": [],
   "source": [
    "import os\n",
    "import re\n",
    "import ast\n",
    "import copy\n",
    "import time\n",
    "import random\n",
    "import itertools\n",
    "import numpy as np\n",
    "import pandas as pd\n",
    "from tqdm import tqdm\n",
    "from collections import defaultdict\n",
    "from pprint import pprint\n",
    "import mapply\n",
    "mapply.init(\n",
    "    n_workers=-1,\n",
    "    chunk_size=1000,\n",
    "    max_chunks_per_worker=8,\n",
    "    progressbar=True\n",
    ")"
   ]
  },
  {
   "cell_type": "code",
   "execution_count": 4,
   "id": "535d0edd-c781-4e1c-bffc-9008555d28d1",
   "metadata": {},
   "outputs": [],
   "source": [
    "import seaborn as sns\n",
    "import matplotlib.pylab as plt\n",
    "import plotly.express as px\n",
    "import plotly.io as pio\n",
    "# import plotly.graph_objects as go\n",
    "# from plotly.subplots import make_subplots\n",
    "%matplotlib inline\n",
    "pio.renderers.default = 'jupyterlab' "
   ]
  },
  {
   "cell_type": "code",
   "execution_count": 5,
   "id": "831b0b38",
   "metadata": {},
   "outputs": [],
   "source": [
    "import nltk\n",
    "# nltk.download('stopwords')\n",
    "from nltk.corpus import stopwords\n",
    "from nltk.tokenize import word_tokenize\n",
    "from nltk.stem import WordNetLemmatizer"
   ]
  },
  {
   "cell_type": "code",
   "execution_count": 6,
   "id": "90a4484b",
   "metadata": {},
   "outputs": [],
   "source": [
    "import torch"
   ]
  },
  {
   "cell_type": "code",
   "execution_count": 7,
   "id": "39ab556d-0a5e-4f58-bd8b-186a546f93bf",
   "metadata": {},
   "outputs": [],
   "source": [
    "import fasttext\n",
    "import fasttext.util"
   ]
  },
  {
   "cell_type": "code",
   "execution_count": 8,
   "id": "63f1446c",
   "metadata": {},
   "outputs": [],
   "source": [
    "from sentence_transformers import SentenceTransformer, util"
   ]
  },
  {
   "cell_type": "code",
   "execution_count": 9,
   "id": "4d71902e",
   "metadata": {},
   "outputs": [],
   "source": [
    "from transformers import AutoTokenizer, AutoModel, AutoConfig"
   ]
  },
  {
   "cell_type": "markdown",
   "id": "eb65ba7e-baa3-4344-a3cd-0fa3d723f976",
   "metadata": {},
   "source": [
    "## 3. Read data"
   ]
  },
  {
   "cell_type": "code",
   "execution_count": 10,
   "id": "7947375c-d3df-4f61-bf7c-26ba5208db4d",
   "metadata": {},
   "outputs": [],
   "source": [
    "nrows = None # 1000 # None\n",
    "if nrows:\n",
    "    covid_df = pd.read_json(covid_data_set_path, nrows=nrows)\n",
    "    travel_df = pd.read_json(travel_data_set_path, nrows=nrows)\n",
    "else:\n",
    "    covid_df = pd.read_json(covid_data_set_path)\n",
    "    travel_df = pd.read_json(travel_data_set_path)"
   ]
  },
  {
   "cell_type": "code",
   "execution_count": 11,
   "id": "93e3c4a5-c4f5-4ad1-b973-0f287b9375b2",
   "metadata": {},
   "outputs": [],
   "source": [
    "covid_df = pd.json_normalize(covid_df['FaqDocuments'])\n",
    "travel_df = pd.json_normalize(travel_df['FaqDocuments'])"
   ]
  },
  {
   "cell_type": "code",
   "execution_count": 12,
   "id": "87008c6a",
   "metadata": {},
   "outputs": [],
   "source": [
    "df = pd.concat([covid_df, travel_df], axis=0)"
   ]
  },
  {
   "cell_type": "code",
   "execution_count": 13,
   "id": "6c5cf3a0-c3f9-4400-b599-c76a285b7dae",
   "metadata": {},
   "outputs": [
    {
     "data": {
      "text/html": [
       "<div>\n",
       "<style scoped>\n",
       "    .dataframe tbody tr th:only-of-type {\n",
       "        vertical-align: middle;\n",
       "    }\n",
       "\n",
       "    .dataframe tbody tr th {\n",
       "        vertical-align: top;\n",
       "    }\n",
       "\n",
       "    .dataframe thead th {\n",
       "        text-align: right;\n",
       "    }\n",
       "</style>\n",
       "<table border=\"1\" class=\"dataframe\">\n",
       "  <thead>\n",
       "    <tr style=\"text-align: right;\">\n",
       "      <th></th>\n",
       "      <th>Question</th>\n",
       "      <th>Answer</th>\n",
       "    </tr>\n",
       "  </thead>\n",
       "  <tbody>\n",
       "    <tr>\n",
       "      <th>0</th>\n",
       "      <td>I am worried about COVID-19 impacting a trip I...</td>\n",
       "      <td>COVID-19 is a known and evolving epidemic that...</td>\n",
       "    </tr>\n",
       "    <tr>\n",
       "      <th>1</th>\n",
       "      <td>Am I covered if I want to cancel my travel pla...</td>\n",
       "      <td>No, canceling a trip because you’re afraid to ...</td>\n",
       "    </tr>\n",
       "    <tr>\n",
       "      <th>2</th>\n",
       "      <td>Am I covered if I cancel or interrupt my trip ...</td>\n",
       "      <td>Claims due to known, foreseeable, or expected ...</td>\n",
       "    </tr>\n",
       "    <tr>\n",
       "      <th>3</th>\n",
       "      <td>What if my travel supplier (e.g. airline, crui...</td>\n",
       "      <td>Travel supplier cancellations due to COVID-19 ...</td>\n",
       "    </tr>\n",
       "    <tr>\n",
       "      <th>4</th>\n",
       "      <td>Am I covered if I cancel my travel plans becau...</td>\n",
       "      <td>No, canceling a trip because of a travel ban o...</td>\n",
       "    </tr>\n",
       "  </tbody>\n",
       "</table>\n",
       "</div>"
      ],
      "text/plain": [
       "                                            Question  \\\n",
       "0  I am worried about COVID-19 impacting a trip I...   \n",
       "1  Am I covered if I want to cancel my travel pla...   \n",
       "2  Am I covered if I cancel or interrupt my trip ...   \n",
       "3  What if my travel supplier (e.g. airline, crui...   \n",
       "4  Am I covered if I cancel my travel plans becau...   \n",
       "\n",
       "                                              Answer  \n",
       "0  COVID-19 is a known and evolving epidemic that...  \n",
       "1  No, canceling a trip because you’re afraid to ...  \n",
       "2  Claims due to known, foreseeable, or expected ...  \n",
       "3  Travel supplier cancellations due to COVID-19 ...  \n",
       "4  No, canceling a trip because of a travel ban o...  "
      ]
     },
     "execution_count": 13,
     "metadata": {},
     "output_type": "execute_result"
    }
   ],
   "source": [
    "df.head()"
   ]
  },
  {
   "cell_type": "code",
   "execution_count": 14,
   "id": "654618ad",
   "metadata": {},
   "outputs": [
    {
     "data": {
      "text/plain": [
       "(81, 2)"
      ]
     },
     "execution_count": 14,
     "metadata": {},
     "output_type": "execute_result"
    }
   ],
   "source": [
    "df.shape"
   ]
  },
  {
   "cell_type": "markdown",
   "id": "313c9319",
   "metadata": {},
   "source": [
    "## 4. Preprocess the text"
   ]
  },
  {
   "cell_type": "code",
   "execution_count": 15,
   "id": "882a0dff",
   "metadata": {},
   "outputs": [],
   "source": [
    "stop_words = set(stopwords.words('german'))\n",
    "stemmer = WordNetLemmatizer()"
   ]
  },
  {
   "cell_type": "code",
   "execution_count": 16,
   "id": "9470a2d0",
   "metadata": {},
   "outputs": [],
   "source": [
    "def preprocess(sent):\n",
    "    # Remove all the special characters\n",
    "    sent = re.sub(r'\\W', ' ', sent)\n",
    "    # remove all single characters\n",
    "    sent = re.sub(r'\\s+[a-zA-Z]\\s+', ' ', sent)\n",
    "    # Remove single characters from the start\n",
    "    sent = re.sub(r'\\^[a-zA-Z]\\s+', ' ', sent) \n",
    "    # Substituting multiple spaces with single space\n",
    "    sent = re.sub(r'\\s+', ' ', sent, flags=re.I)\n",
    "    # Removing prefixed 'b'\n",
    "    sent = re.sub(r'^b\\s+', '', sent)\n",
    "    # Converting to Lowercase\n",
    "    sent = sent.lower()\n",
    "\n",
    "    text_tokens = word_tokenize(sent)\n",
    "    sent = [stemmer.lemmatize(word)  for word in text_tokens if not word in stop_words]\n",
    "    sent = (\" \").join(sent)\n",
    "\n",
    "    return sent"
   ]
  },
  {
   "cell_type": "code",
   "execution_count": 17,
   "id": "7e0702b3",
   "metadata": {},
   "outputs": [],
   "source": [
    "df[\"Question\"] = df['Question'].apply(preprocess)\n",
    "df[\"Answer\"] = df['Answer'].apply(preprocess)"
   ]
  },
  {
   "cell_type": "markdown",
   "id": "3967806d-3075-4800-b8a8-3f9766cbccdf",
   "metadata": {},
   "source": [
    "## 5. Modeling"
   ]
  },
  {
   "cell_type": "code",
   "execution_count": 18,
   "id": "76146b6d",
   "metadata": {},
   "outputs": [],
   "source": [
    "def compute_similarity(a, b):\n",
    "#     cos_scores = util.pytorch_cos_sim(ef_emd, tar_emb)\n",
    "    cos_scores = np.dot(a, b) / (np.linalg.norm(a) * np.linalg.norm(b))\n",
    "    return cos_scores"
   ]
  },
  {
   "cell_type": "code",
   "execution_count": 19,
   "id": "f8f7768e",
   "metadata": {},
   "outputs": [],
   "source": [
    "def get_similarity(qs_emb_list, an_emb_list, shuffle=False):\n",
    "    if shuffle:\n",
    "        random.shuffle(an_emb_list)\n",
    "    sim_list = []\n",
    "    for qs_emb, an_emb in zip(qs_emb_list, an_emb_list):\n",
    "        sim = compute_similarity(qs_emb, an_emb)\n",
    "        sim_list.append(sim)\n",
    "    return sim_list"
   ]
  },
  {
   "cell_type": "code",
   "execution_count": 20,
   "id": "65fb04f5-33cc-4bf3-954c-e067fa0b95b2",
   "metadata": {},
   "outputs": [],
   "source": [
    "def show_sim_hist(self_sim_scores_list, cross_sim_scores_list):\n",
    "    fig = plt.figure()\n",
    "    plt.hist(self_sim_scores_list, label='Self Similarity', alpha=0.3)\n",
    "    plt.hist(cross_sim_scores_list, label='Cross Similarity', alpha=0.3)\n",
    "    plt.legend(loc=\"upper right\")\n",
    "    plt.title(f'Histogram of the similarity scores')\n",
    "    plt.show()"
   ]
  },
  {
   "cell_type": "code",
   "execution_count": 21,
   "id": "3e391f9b",
   "metadata": {},
   "outputs": [],
   "source": [
    "def compute_embeddings(df, tokenizer=None, model=None, batch_size=16, model_name=\"hf\"):\n",
    "    qs_sent_list = df['Question'].values.tolist()\n",
    "    an_sent_list = df['Answer'].values.tolist()\n",
    "\n",
    "    num_batchs = int(len(df)/batch_size) + 1\n",
    "    qs_emb_list = []\n",
    "    an_emb_list = []\n",
    "    for i in range(num_batchs):\n",
    "        batch_qs = qs_sent_list[i*batch_size:(i+1)*batch_size]\n",
    "        batch_an = an_sent_list[i*batch_size:(i+1)*batch_size]\n",
    "        \n",
    "        if model_name == \"st\":\n",
    "            qs_emb_batch = model.encode(batch_qs, convert_to_tensor=True)\n",
    "            an_emb_batch = model.encode(batch_an, convert_to_tensor=True)\n",
    "            \n",
    "        elif model_name == \"hf\":\n",
    "            inputs_qs_embs = tokenizer(batch_qs, padding=True, truncation=True, return_tensors=\"pt\")\n",
    "            outputs_qs_embs = model(**inputs_qs_embs)\n",
    "            qs_emb_batch = outputs_qs_embs.pooler_output\n",
    "            \n",
    "            inputs_an_embs = tokenizer(batch_an, padding=True, truncation=True, return_tensors=\"pt\")\n",
    "            outputs_an_embs = model(**inputs_an_embs)\n",
    "            an_emb_batch = outputs_an_embs.pooler_output\n",
    "        \n",
    "        elif model_name == \"ft\":\n",
    "            qs_sent_emb = np.asarray([model.get_word_vector(x) for x in qs_sent.split()])\n",
    "            an_sent_emd = np.asarray([model.get_word_vector(x) for x in an_sent.split()])\n",
    "            \n",
    "        qs_emb_batch = qs_emb_batch.cpu().detach().numpy().tolist()\n",
    "        qs_emb_list.extend(qs_emb_batch)\n",
    "        \n",
    "        an_emb_batch = an_emb_batch.cpu().detach().numpy().tolist()\n",
    "        an_emb_list.extend(an_emb_batch)\n",
    "    \n",
    "    return qs_emb_list, an_emb_list"
   ]
  },
  {
   "cell_type": "code",
   "execution_count": 22,
   "id": "e0b91b5b",
   "metadata": {},
   "outputs": [],
   "source": [
    "batch_size = 16"
   ]
  },
  {
   "cell_type": "markdown",
   "id": "84c692dc",
   "metadata": {},
   "source": [
    "### FastText"
   ]
  },
  {
   "cell_type": "code",
   "execution_count": null,
   "id": "f7052802-2e1f-4a7e-97fd-3f3f682840b3",
   "metadata": {
    "scrolled": true,
    "tags": []
   },
   "outputs": [
    {
     "name": "stdout",
     "output_type": "stream",
     "text": [
      "Downloading https://dl.fbaipublicfiles.com/fasttext/vectors-crawl/cc.en.300.bin.gz\n",
      " (0.53%) [>                                                  ]>                                                  ]>                                                  ]                                                  ]>                                                  ]>                                                  ]]                                                  ]>                                                  ]>                                                  ]>                                                  ]                                                  ]>                                                  ]>                                                  ]                                                  ]>                                                  ]]>                                                  ]                                                  ]                                                  ]                                                  ]]>                                                  ]]                                                  ]]>                                                  ]]                                                  ]                                                  ]>                                                  ]                                                  ]>                                                  ]>                                                  ]                                                  ]>                                                  ]]>                                                  ]>                                                  ]                                                  ]                                                  ]]                                                  ]>                                                  ]>                                                  ]>                                                  ]                                                  ]>                                                  ]]>                                                  ]                                                  ]>                                                  ]>                                                  ]>                                                  ]>                                                  ]>                                                  ]>                                                  ]>                                                  ]                                                  ]                                                  ]>                                                  ]>                                                  ]>                                                  ]]>                                                  ]]>                                                  ]>                                                  ]                                                  ]>                                                  ]>                                                  ]>                                                  ]]>                                                  ]>                                                  ]]]>                                                  ]                                                  ]>                                                  ]>                                                  ]                                                  ]>                                                  ]>                                                  ]>                                                  ]\r"
     ]
    },
    {
     "name": "stderr",
     "output_type": "stream",
     "text": [
      "IOPub message rate exceeded.\n",
      "The notebook server will temporarily stop sending output\n",
      "to the client in order to avoid crashing it.\n",
      "To change this limit, set the config variable\n",
      "`--NotebookApp.iopub_msg_rate_limit`.\n",
      "\n",
      "Current values:\n",
      "NotebookApp.iopub_msg_rate_limit=1000.0 (msgs/sec)\n",
      "NotebookApp.rate_limit_window=3.0 (secs)\n",
      "\n"
     ]
    },
    {
     "name": "stdout",
     "output_type": "stream",
     "text": [
      " (1.26%) [>                                                  ]                                                  ]>                                                  ]]>                                                  ]>                                                  ]>                                                  ]>                                                  ]                                                  ]]>                                                  ]]                                                  ]                                                  ]                                                  ]]]                                                  ]                                                  ]>                                                  ]]]>                                                  ]>                                                  ]]]>                                                  ]>                                                  ]                                                  ]>                                                  ]                                                  ]]>                                                  ]>                                                  ]                                                  ]>                                                  ]]>                                                  ]>                                                  ]                                                  ]                                                  ]                                                  ]>                                                  ]                                                  ]>                                                  ]                                                  ]>                                                  ]>                                                  ]>                                                  ]>                                                  ]>                                                  ]>                                                  ]                                                  ]]                                                  ]                                                  ]>                                                  ]>                                                  ]                                                  ]>                                                  ]]                                                  ]                                                  ]>                                                  ]                                                  ]                                                  ]>                                                  ]]                                                  ]                                                  ]]>                                                  ]>                                                  ]>                                                  ]>                                                  ]                                                  ]>                                                  ]>                                                  ]>                                                  ]>                                                  ]                                                  ]>                                                  ]>                                                  ]>                                                  ]                                                  ]                                                  ]]>                                                  ]>                                                  ]                                                  ]]>                                                  ]                                                  ]                                                  ]>                                                  ]>                                                  ]                                                  ]>                                                  ]>                                                  ]                                                  ]>                                                  ]]>                                                  ]                                                  ]                                                  ]>                                                  ]]                                                  ]                                                  ]                                                  ]>                                                  ]]>                                                  ]                                                  ]                                                  ]]                                                  ]]                                                  ]>                                                  ]                                                  ]>                                                  ]                                                  ]>                                                  ]                                                  ]>                                                  ]>                                                  ]>                                                  ]>                                                  ]                                                  ]                                                  ]>                                                  ]                                                  ]                                                  ]]                                                  ]                                                  ]                                                  ]                                                  ]                                                  ]>                                                  ]>                                                  ]>                                                  ]>                                                  ]]>                                                  ]                                                  ]]                                                  ]>                                                  ]]                                                  ]>                                                  ]>                                                  ]>                                                  ]>                                                  ]>                                                  ]                                                  ]>                                                  ]>                                                  ]>                                                  ]]>                                                  ]>                                                  ]                                                  ]>                                                  ]]                                                  ]>                                                  ]                                                  ]                                                  ]>                                                  ]>                                                  ]>                                                  ]>                                                  ]>                                                  ]                                                  ]>                                                  ]>                                                  ]>                                                  ]>                                                  ]]]                                                  ]>                                                  ]>                                                  ]                                                  ]>                                                  ]>                                                  ]\r"
     ]
    },
    {
     "name": "stdout",
     "output_type": "stream",
     "text": [
      " (1.29%) [>                                                  ]                                                  ]>                                                  ]>                                                  ]                                                  ]>                                                  ]>                                                  ]>                                                  ]                                                  ]>                                                  ]>                                                  ]>                                                  ]\r"
     ]
    },
    {
     "name": "stderr",
     "output_type": "stream",
     "text": [
      "IOPub message rate exceeded.\n",
      "The notebook server will temporarily stop sending output\n",
      "to the client in order to avoid crashing it.\n",
      "To change this limit, set the config variable\n",
      "`--NotebookApp.iopub_msg_rate_limit`.\n",
      "\n",
      "Current values:\n",
      "NotebookApp.iopub_msg_rate_limit=1000.0 (msgs/sec)\n",
      "NotebookApp.rate_limit_window=3.0 (secs)\n",
      "\n"
     ]
    },
    {
     "name": "stdout",
     "output_type": "stream",
     "text": [
      " (1.98%) [>                                                  ]                                                  ]]>                                                  ]>                                                  ]]                                                  ]                                                  ]                                                  ]]>                                                  ]                                                  ]]>                                                  ]>                                                  ]>                                                  ]>                                                  ]                                                  ]>                                                  ]                                                  ]                                                  ]                                                  ]                                                  ]]>                                                  ]]                                                  ]>                                                  ]>                                                  ]>                                                  ]>                                                  ]                                                  ]                                                  ]>                                                  ]]>                                                  ]>                                                  ]>                                                  ]                                                  ]>                                                  ]                                                  ]                                                  ]                                                  ]>                                                  ]]                                                  ]>                                                  ]>                                                  ]]                                                  ]                                                  ]>                                                  ]]]]                                                  ]>                                                  ]]]>                                                  ]                                                  ]]                                                  ]]                                                  ]]                                                  ]]>                                                  ]>                                                  ]>                                                  ]>                                                  ]                                                  ]                                                  ]                                                  ]                                                  ]]                                                  ]>                                                  ]                                                  ]                                                  ]]]]                                                  ]                                                  ]>                                                  ]                                                  ]]>                                                  ]                                                  ]                                                  ]                                                  ]                                                  ]                                                  ]                                                  ]                                                  ]]]                                                  ]                                                  ]]]                                                  ]>                                                  ]>                                                  ]                                                  ]]>                                                  ]                                                  ]                                                  ]                                                  ]]>                                                  ]>                                                  ]                                                  ]                                                  ]]                                                  ]>                                                  ]                                                  ]]]>                                                  ]]>                                                  ]>                                                  ]>                                                  ]                                                  ]>                                                  ]>                                                  ]>                                                  ]>                                                  ]>                                                  ]>                                                  ]>                                                  ]                                                  ]                                                  ]>                                                  ]                                                  ]                                                  ]                                                  ]>                                                  ]>                                                  ]                                                  ]                                                  ]>                                                  ]]]>                                                  ]                                                  ]>                                                  ]>                                                  ]]>                                                  ]]>                                                  ]                                                  ]>                                                  ]                                                  ]>                                                  ]>                                                  ]                                                  ]                                                  ]>                                                  ]                                                  ]]]>                                                  ]                                                  ]>                                                  ]>                                                  ]>                                                  ]]>                                                  ]>                                                  ]                                                  ]                                                  ]>                                                  ]                                                  ]>                                                  ]>                                                  ]                                                  ]]                                                  ]                                                  ]>                                                  ]>                                                  ]>                                                  ]>                                                  ]>                                                  ]>                                                  ]>                                                  ]>                                                  ]>                                                  ]>                                                  ]>                                                  ]>                                                  ]>                                                  ]\r"
     ]
    },
    {
     "name": "stdout",
     "output_type": "stream",
     "text": [
      " (2.02%) [=>                                                 ]                                                  ]>                                                  ]>                                                  ]>                                                  ]]                                                  ]]>                                                 ]                                                 ]=>                                                 ]]=>                                                 ]\r"
     ]
    },
    {
     "name": "stderr",
     "output_type": "stream",
     "text": [
      "IOPub message rate exceeded.\n",
      "The notebook server will temporarily stop sending output\n",
      "to the client in order to avoid crashing it.\n",
      "To change this limit, set the config variable\n",
      "`--NotebookApp.iopub_msg_rate_limit`.\n",
      "\n",
      "Current values:\n",
      "NotebookApp.iopub_msg_rate_limit=1000.0 (msgs/sec)\n",
      "NotebookApp.rate_limit_window=3.0 (secs)\n",
      "\n"
     ]
    },
    {
     "name": "stdout",
     "output_type": "stream",
     "text": [
      " (2.82%) [=>                                                 ]                                                 ]                                                 ]                                                 ]                                                 ]=>                                                 ]]                                                 ]]=>                                                 ]                                                 ]                                                 ]]                                                 ]=>                                                 ]                                                 ]]                                                 ]]                                                 ]                                                 ]                                                 ]]                                                 ]                                                 ]                                                 ]>                                                 ]                                                 ]=>                                                 ]                                                 ]=>                                                 ]                                                 ]                                                 ]=>                                                 ]                                                 ]                                                 ]=>                                                 ]]>                                                 ]=>                                                 ]                                                 ]                                                 ]=>                                                 ]                                                 ]                                                 ]=>                                                 ]                                                 ]                                                 ]=>                                                 ]]]]                                                 ]                                                 ]                                                 ]>                                                 ]]]                                                 ]                                                 ]>                                                 ]                                                 ]=>                                                 ]]                                                 ]]]]]>                                                 ]                                                 ]                                                 ]=>                                                 ]                                                 ]                                                 ]=>                                                 ]                                                 ]                                                 ]>                                                 ]=>                                                 ]>                                                 ]                                                 ]                                                 ]]                                                 ]                                                 ]]=>                                                 ]                                                 ]]                                                 ]=>                                                 ]]                                                 ]]=>                                                 ]]=>                                                 ]                                                 ]                                                 ]]=>                                                 ]                                                 ]=>                                                 ]                                                 ]>                                                 ]>                                                 ]=>                                                 ]                                                 ]                                                 ]                                                 ]                                                 ]>                                                 ]>                                                 ]                                                 ]                                                 ]>                                                 ]=>                                                 ]=>                                                 ]]=>                                                 ]>                                                 ]                                                 ]>                                                 ]=>                                                 ]=>                                                 ]>                                                 ]=>                                                 ]=>                                                 ]>                                                 ]=>                                                 ]                                                 ]=>                                                 ]                                                 ]=>                                                 ]>                                                 ]\r"
     ]
    },
    {
     "name": "stderr",
     "output_type": "stream",
     "text": [
      "IOPub message rate exceeded.\n",
      "The notebook server will temporarily stop sending output\n",
      "to the client in order to avoid crashing it.\n",
      "To change this limit, set the config variable\n",
      "`--NotebookApp.iopub_msg_rate_limit`.\n",
      "\n",
      "Current values:\n",
      "NotebookApp.iopub_msg_rate_limit=1000.0 (msgs/sec)\n",
      "NotebookApp.rate_limit_window=3.0 (secs)\n",
      "\n"
     ]
    },
    {
     "name": "stdout",
     "output_type": "stream",
     "text": [
      " (3.58%) [=>                                                 ]=>                                                 ]                                                 ]                                                 ]                                                 ]                                                 ]]=>                                                 ]=>                                                 ]=>                                                 ]=>                                                 ]>                                                 ]=>                                                 ]                                                 ]>                                                 ]                                                 ]=>                                                 ]=>                                                 ]>                                                 ]=>                                                 ]                                                 ]=>                                                 ]=>                                                 ]=>                                                 ]=>                                                 ]]]                                                 ]=>                                                 ]=>                                                 ]                                                 ]>                                                 ]]                                                 ]=>                                                 ]=>                                                 ]]]=>                                                 ]>                                                 ]>                                                 ]=>                                                 ]>                                                 ]]                                                 ]                                                 ]                                                 ]]                                                 ]                                                 ]=>                                                 ]]>                                                 ]]                                                 ]                                                 ]=>                                                 ]\r"
     ]
    },
    {
     "name": "stderr",
     "output_type": "stream",
     "text": [
      "IOPub message rate exceeded.\n",
      "The notebook server will temporarily stop sending output\n",
      "to the client in order to avoid crashing it.\n",
      "To change this limit, set the config variable\n",
      "`--NotebookApp.iopub_msg_rate_limit`.\n",
      "\n",
      "Current values:\n",
      "NotebookApp.iopub_msg_rate_limit=1000.0 (msgs/sec)\n",
      "NotebookApp.rate_limit_window=3.0 (secs)\n",
      "\n"
     ]
    },
    {
     "name": "stdout",
     "output_type": "stream",
     "text": [
      " (4.35%) [==>                                                ]                                                 ]=>                                                 ]>                                                 ]                                                 ]]                                                 ]]]]]=>                                                 ]=>                                                 ]                                                 ]>                                                 ]=>                                                 ]=>                                                 ]=>                                                 ]                                                 ]==>                                                ]>                                                ]>                                                ]                                                ]>                                                ]==>                                                ]==>                                                ]==>                                                ]                                                ]>                                                ]>                                                ]==>                                                ]]]==>                                                ]>                                                ]]]>                                                ]\r"
     ]
    },
    {
     "name": "stderr",
     "output_type": "stream",
     "text": [
      "IOPub message rate exceeded.\n",
      "The notebook server will temporarily stop sending output\n",
      "to the client in order to avoid crashing it.\n",
      "To change this limit, set the config variable\n",
      "`--NotebookApp.iopub_msg_rate_limit`.\n",
      "\n",
      "Current values:\n",
      "NotebookApp.iopub_msg_rate_limit=1000.0 (msgs/sec)\n",
      "NotebookApp.rate_limit_window=3.0 (secs)\n",
      "\n"
     ]
    },
    {
     "name": "stdout",
     "output_type": "stream",
     "text": [
      " (5.15%) [==>                                                ]==>                                                ]==>                                                ]==>                                                ]>                                                ]>                                                ]>                                                ]                                                ]                                                ]==>                                                ]                                                ]>                                                ]                                                ]==>                                                ]                                                ]==>                                                ]==>                                                ]]>                                                ]>                                                ]==>                                                ]]==>                                                ]>                                                ]>                                                ]                                                ]                                                ]==>                                                ]==>                                                ]>                                                ]==>                                                ]>                                                ]]                                                ]==>                                                ]                                                ]>                                                ]                                                ]==>                                                ]==>                                                ]==>                                                ]==>                                                ]==>                                                ]==>                                                ]>                                                ]==>                                                ]==>                                                ]]>                                                ]]\r"
     ]
    },
    {
     "name": "stderr",
     "output_type": "stream",
     "text": [
      "IOPub message rate exceeded.\n",
      "The notebook server will temporarily stop sending output\n",
      "to the client in order to avoid crashing it.\n",
      "To change this limit, set the config variable\n",
      "`--NotebookApp.iopub_msg_rate_limit`.\n",
      "\n",
      "Current values:\n",
      "NotebookApp.iopub_msg_rate_limit=1000.0 (msgs/sec)\n",
      "NotebookApp.rate_limit_window=3.0 (secs)\n",
      "\n"
     ]
    },
    {
     "name": "stdout",
     "output_type": "stream",
     "text": [
      " (5.92%) [==>                                                ]==>                                                ]==>                                                ]==>                                                ]==>                                                ]>                                                ]==>                                                ]>                                                ]==>                                                ]==>                                                ]==>                                                ]>                                                ]]>                                                ]==>                                                ]==>                                                ]==>                                                ]==>                                                ]==>                                                ]]                                                ]>                                                ]==>                                                ]==>                                                ]                                                ]                                                ]>                                                ]                                                ]==>                                                ]>                                                ]>                                                ]==>                                                ]==>                                                ]]>                                                ]==>                                                ]==>                                                ]                                                ]                                                ]>                                                ]==>                                                ]==>                                                ]==>                                                ]>                                                ]]>                                                ]>                                                ]]==>                                                ]==>                                                ]]]                                                ]>                                                ]                                                ]==>                                                ]]==>                                                ]\r"
     ]
    },
    {
     "name": "stderr",
     "output_type": "stream",
     "text": [
      "IOPub message rate exceeded.\n",
      "The notebook server will temporarily stop sending output\n",
      "to the client in order to avoid crashing it.\n",
      "To change this limit, set the config variable\n",
      "`--NotebookApp.iopub_msg_rate_limit`.\n",
      "\n",
      "Current values:\n",
      "NotebookApp.iopub_msg_rate_limit=1000.0 (msgs/sec)\n",
      "NotebookApp.rate_limit_window=3.0 (secs)\n",
      "\n"
     ]
    },
    {
     "name": "stdout",
     "output_type": "stream",
     "text": [
      " (7.07%) [===>                                               ]]                                               ]===>                                               ]                                               ]===>                                               ]                                               ]===>                                               ]===>                                               ]]                                               ]                                               ]                                               ]                                               ]===>                                               ]===>                                               ]                                               ]                                               ]]]===>                                               ]===>                                               ]===>                                               ]===>                                               ]===>                                               ]===>                                               ]                                               ]===>                                               ]===>                                               ]                                               ]>                                               ]>                                               ]                                               ]>                                               ]===>                                               ]===>                                               ]===>                                               ]===>                                               ]===>                                               ]                                               ]                                               ]]===>                                               ]                                               ]]>                                               ]===>                                               ]                                               ]===>                                               ]                                               ]                                               ]                                               ]>                                               ]===>                                               ]                                               ]===>                                               ]===>                                               ]                                               ]>                                               ]]]===>                                               ]===>                                               ]                                               ]]===>                                               ]]                                               ]                                               ]                                               ]]                                               ]===>                                               ]>                                               ]>                                               ]===>                                               ]===>                                               ]                                               ]                                               ]===>                                               ]                                               ]===>                                               ]                                               ]]]]>                                               ]                                               ]                                               ]===>                                               ]                                               ]]]>                                               ]===>                                               ]]===>                                               ]===>                                               ]                                               ]                                               ]===>                                               ]===>                                               ]                                               ]>                                               ]===>                                               ]]                                               ]>                                               ]>                                               ]]]                                               ]===>                                               ]                                               ]===>                                               ]>                                               ]]>                                               ]===>                                               ]===>                                               ]===>                                               ]>                                               ]===>                                               ]===>                                               ]>                                               ]]                                               ]>                                               ]>                                               ]>                                               ]                                               ]===>                                               ]>                                               ]]                                               ]===>                                               ]]===>                                               ]]>                                               ]                                               ]                                               ]]===>                                               ]                                               ]]>                                               ]>                                               ]>                                               ]===>                                               ]===>                                               ]===>                                               ]]===>                                               ]]]===>                                               ]\r"
     ]
    }
   ],
   "source": [
    "# load and instantiate the fasttext model\n",
    "fasttext.util.download_model('en', if_exists='ignore')\n",
    "ft_model = fasttext.load_model('cc.en.300.bin')"
   ]
  },
  {
   "cell_type": "markdown",
   "id": "7b557ea0",
   "metadata": {},
   "source": [
    "### Sentece transformer"
   ]
  },
  {
   "cell_type": "code",
   "execution_count": 24,
   "id": "ec08a126",
   "metadata": {},
   "outputs": [],
   "source": [
    "def st_get_and_show_similarity(batch_size, show=True):\n",
    "    model_checkpoints = 'stsb-roberta-large'\n",
    "    model = SentenceTransformer(model_checkpoints)\n",
    "    qs_emb_list, an_emb_list = compute_embeddings(df, model=model, batch_size=batch_size, model_name=\"st\")\n",
    "    self_sim_scores_list = get_similarity(qs_emb_list, an_emb_list, shuffle=False)\n",
    "    cross_sim_scores_list = get_similarity(qs_emb_list, an_emb_list, shuffle=True)\n",
    "    \n",
    "    if show:\n",
    "        show_sim_hist(self_sim_scores_list, cross_sim_scores_list)\n",
    "        \n",
    "    return model, qs_emb_list, an_emb_list"
   ]
  },
  {
   "cell_type": "code",
   "execution_count": 25,
   "id": "e7791a03",
   "metadata": {},
   "outputs": [
    {
     "data": {
      "image/png": "[encoded data removed]",
      "text/plain": [
       "<Figure size 432x288 with 1 Axes>"
      ]
     },
     "metadata": {
      "needs_background": "light"
     },
     "output_type": "display_data"
    }
   ],
   "source": [
    "model, qs_emb_list, an_emb_list = st_get_and_show_similarity(batch_size, show=True)"
   ]
  },
  {
   "cell_type": "markdown",
   "id": "e203f737",
   "metadata": {},
   "source": [
    "### Husggingfase"
   ]
  },
  {
   "cell_type": "code",
   "execution_count": 26,
   "id": "ad9439c3",
   "metadata": {},
   "outputs": [],
   "source": [
    "def load_hf_model(model_checkpoint, tokenizer_checkpoint):\n",
    "    model = AutoModel.from_pretrained(model_checkpoint)\n",
    "    tokenizer = AutoTokenizer.from_pretrained(tokenizer_checkpoint)\n",
    "    return model, tokenizer"
   ]
  },
  {
   "cell_type": "code",
   "execution_count": 27,
   "id": "edd033d4",
   "metadata": {},
   "outputs": [],
   "source": [
    "def hf_get_show_similarity(batch_size, show=True):\n",
    "    model_checkpoint = tokenizer_checkpoint = \"ProsusAI/finbert\"\n",
    "    model, tokenizer = load_hf_model(model_checkpoint, tokenizer_checkpoint)\n",
    "    qs_emb_list, an_emb_list = compute_embeddings(df, tokenizer=tokenizer, model=model, batch_size=batch_size, model_name=\"hf\")\n",
    "    \n",
    "    self_sim_scores_list = get_similarity(qs_emb_list, an_emb_list, shuffle=False)\n",
    "    cross_sim_scores_list = get_similarity(qs_emb_list, an_emb_list, shuffle=True)\n",
    "    \n",
    "    if show:\n",
    "        show_sim_hist(self_sim_scores_list, cross_sim_scores_list)\n",
    "        \n",
    "    return model, an_emb_list"
   ]
  },
  {
   "cell_type": "code",
   "execution_count": 28,
   "id": "75ef866e",
   "metadata": {},
   "outputs": [],
   "source": [
    "#model, qs_emb_list, an_emb_list = hf_get_show_similarity(batch_size, show=True)"
   ]
  },
  {
   "cell_type": "markdown",
   "id": "4944af4b",
   "metadata": {},
   "source": [
    "## Q&A"
   ]
  },
  {
   "cell_type": "code",
   "execution_count": 29,
   "id": "583cc387",
   "metadata": {},
   "outputs": [],
   "source": [
    "df[\"Answer_Emb\"] = an_emb_list\n",
    "df[\"Question_Emb\"] = qs_emb_list"
   ]
  },
  {
   "cell_type": "code",
   "execution_count": 30,
   "id": "b2c4d00d",
   "metadata": {},
   "outputs": [],
   "source": [
    "def sample_from_questions_(df, num_sample_queries=5):\n",
    "    num_ans = len(df)\n",
    "    random_sample_inds = np.random.randint(low=0, high=num_ans, size=num_sample_queries)\n",
    "    sample_queries = [df.iloc[i]['Question'] for i in random_sample_inds]\n",
    "    true_answers = [df.iloc[i]['Answer'] for i in random_sample_inds]\n",
    "    return sample_queries, true_answers"
   ]
  },
  {
   "cell_type": "code",
   "execution_count": 31,
   "id": "e16255de",
   "metadata": {},
   "outputs": [],
   "source": [
    "def sample_from_questions(df, num_sample_queries=5):\n",
    "    num_ans = len(df)\n",
    "    random_sample_inds = np.random.randint(low=0, high=num_ans, size=num_sample_queries)\n",
    "    sampled_df = df.iloc[random_sample_inds]\n",
    "    return sampled_df"
   ]
  },
  {
   "cell_type": "code",
   "execution_count": 32,
   "id": "4cafd522",
   "metadata": {},
   "outputs": [],
   "source": [
    "num_ans = len(df)"
   ]
  },
  {
   "cell_type": "code",
   "execution_count": 33,
   "id": "af9f6c0f",
   "metadata": {},
   "outputs": [],
   "source": [
    "sampled_df = sample_from_questions(df, num_sample_queries=5)"
   ]
  },
  {
   "cell_type": "code",
   "execution_count": 36,
   "id": "dbb36500",
   "metadata": {},
   "outputs": [
    {
     "name": "stdout",
     "output_type": "stream",
     "text": [
      "question: \n",
      "my travel plan have changed how can change my plan coverage date\n",
      "true_answer: \n",
      "we are happy to help you change your coverage date to match your new trip date your new return date must be within 770 day of when you purchased your policy if you have not already departed on your trip or filed claim you may update your plan through the online plan management tool if the travel date have passed and you have not started your trip or filed claim just send u the following information proof of cancellation for your existing trip such copy of the cancellation email from your travel supplier or screenshots from the supplier website copy of your new itinerary showing the traveler name trip date and new total cost of your trip forward your document to agentservices allianzassistance com please include date change request and your plan number the subject line of the email you can fax the document to 804 673 1598 please include your plan number on all document once we receive these item our team review your request within 3 5 business day please note if your trip cost or duration change the cost of your travel protection plan may change we let you know if that is the case if your trip is extended because of covered travel delay trip interruption medical emergency or other covered reason you don have to request change to your coverage date we extend your coverage period until the earlier of when you are able to return home or to your point of origin or until you arrive at medical facility for further care following medical repatriation or trip interruption\n",
      "true_sim_score: \n",
      "0.33563723339474655\n",
      "-----------------------\n",
      "predicted_answer: \n",
      "your travel insurance benefit do not cover pet however we include service animal a defined by the american with disability act our definition of family member any benefit that apply to family member would apply to service animal emotional support animal or therapy animal are not considered service animal by the ada\n",
      "predicted_score: \n",
      "0.6956107828196304\n",
      "########################################################\n",
      "question: \n",
      "how do know what my coverage limit are\n",
      "true_answer: \n",
      "refer to your plan document for all the detail of your plan including benefit coverage limit covered reason for trip cancellation trip interruption and exclusion benefit limit are listed on the declaration page\n",
      "true_sim_score: \n",
      "0.19688681902660726\n",
      "-----------------------\n",
      "predicted_answer: \n",
      "you can request additional copy of your policy document by visiting our online policy management tool\n",
      "predicted_score: \n",
      "0.5811137498584203\n",
      "########################################################\n",
      "question: \n",
      "i traveling overseas where can find information about covid 19 travel restriction and other entry requirement for my destination\n",
      "true_answer: \n",
      "our interactive map show current information on travel requirement and entry restriction for international destination including covid 19 testing vaccination policy necessary travel document and quarantine period check your destination entry requirement here content is provided by sherpa affiliated third party if your destination requires proof of travel insurance we re happy to provide summary letter that describes your travel insurance plan benefit called embassy letter click here to request embassy letter please allow approximately 48 hour for response\n",
      "true_sim_score: \n",
      "0.3022140097395456\n",
      "-----------------------\n",
      "predicted_answer: \n",
      "if you re sick but test negative for covid doctor must advise you to cancel your trip before you cancel it if this isn possible doctor must examine or consult with you within 72 hour after the cancellation to confirm the decision to cancel\n",
      "predicted_score: \n",
      "0.6987116934991657\n",
      "########################################################\n",
      "question: \n",
      "what is meant by individually ordered quarantine\n",
      "true_answer: \n",
      "a quarantine is considered individually ordered when these condition a specified the plan are met the quarantine is specific to you or traveling companion meaning that you or traveling companion must be specifically and individually designated by name order or directive to be placed quarantine due to epidemic and ii the quarantine doe not apply generally or broadly to some segment or all of population geographical area building or vessel including without limitation shelter place stay at home safer at home or other similar restriction or based on to from or through where the person is traveling this condition ii applies even if the quarantine order or directive specifically designates you or traveling companion by name to be quarantined example 1 while you are on cruise the crew of your cruise ship is checking temperature of all passenger and you or your traveling companion demonstrate temperature outside the accepted range causing you both to be ordered to quarantine while on board this would qualify a individually ordered quarantine example 2 while you are on cruise the crew of your cruise ship is checking temperature of all passenger a result of passenger not part of your traveling party demonstrating temperature outside the accepted range all passenger on the ship are ordered to quarantine while on board because this quarantine applies generally or broadly to the population of the entire vessel this would not qualify a individually ordered quarantine example 3 while you are on cruise the crew of your cruise ship is conducting random covid 19 testing of passenger passenger who is not part of your traveling party but with whom you have had close contact test positive for covid 19 a result you or your traveling companion are ordered to quarantine while on board other passenger who are not close contact of the ill passenger are allowed to continue freely moving about the ship a normal this would qualify a individually ordered quarantine example 4 you fly to country that requires all person entering the country to quarantine for fourteen day prior to being permitted to freely travel the country because this is general broad quarantine that applies based on the country to which you are traveling this would not qualify a individually ordered quarantine please note this answer is specific to product that include the epidemic coverage endorsement and applicable benefit and covered reason described to see if your plan includes this endorsement please look for epidemic coverage endorsement on your declaration of coverage or letter of confirmation\n",
      "true_sim_score: \n",
      "0.30964293210567934\n",
      "-----------------------\n",
      "predicted_answer: \n",
      "on the required document page select your claim type to see list of the documentation that may be required to support your claim for the fastest service please gather these document before you start your claim some case your claim examiner may ask you to submit additional piece of documentation that not included this list if you have question about the document you need to submit please call u at 1 866 884 3556\n",
      "predicted_score: \n",
      "0.6150592706000803\n",
      "########################################################\n",
      "question: \n",
      "if m denied boarding due to suspicion of being ill with covid 19 would travel delay benefit apply\n",
      "true_answer: \n",
      "if you or traveling companion is denied boarding due to suspicion of covid 19 illness and your plan includes the denied boarding covered reason under trip interruption or travel delay you may be eligible for coverage under that benefit the specific expense that may be covered depends on the benefit and may vary by plan please note this doe not include being denied boarding a result of your refusal or failure to comply with rule or requirement of entry to your destination example 1 the crew of your cruise ship is checking temperature of all passenger prior to allowing them to reboard following shore excursion you or your traveling companion demonstrate temperature outside the accepted range causing you both to be denied boarding this may qualify for coverage under the denied boarding covered reason example 2 during the process of reboarding cruise ship after shore excursion you are required to fill out form indicating whether you have attended any gathering of 50 or more people while off the ship which the cruise ship ha indicated is prohibited for cruise ship passenger however you did not follow that rule and attended party with more than 50 people during the shore excursion you indicated that on the ship form and a result you were not allowed to reboard the ship this boarding denial would not qualify for coverage under the denied boarding covered reason because you did not follow the travel supplier rule and requirement to travel express condition of the denied boarding covered reason please note this answer is specific to product that include the epidemic coverage endorsement and applicable benefit and covered reason described to see if your plan includes this endorsement please look for epidemic coverage endorsement on your declaration of coverage or letter of confirmation\n",
      "true_sim_score: \n",
      "0.2737729186041171\n",
      "-----------------------\n",
      "predicted_answer: \n",
      "some travel protection plan include supplier financial default a covered reason for trip cancellation and trip interruption this mean covered supplier such a tour operator airline or cruise line cease all operation due to it financial condition with or without filing for bankruptcy coverage applies to non refundable payment and deposit you made before your trip canceled le any published refund you re entitled to receive\n",
      "predicted_score: \n",
      "0.7138643762772307\n",
      "########################################################\n"
     ]
    }
   ],
   "source": [
    "num_top_answers = 1 # = M\n",
    "for i, row in sampled_df.iterrows():\n",
    "    query_sent = row['Question']\n",
    "    query_emb = row['Question_Emb']\n",
    "    true_answer = row['Answer']\n",
    "    true_answer_emb = row['Answer_Emb']\n",
    "    true_sim_score = get_similarity([query_emb], [true_answer_emb], shuffle=False)\n",
    "    print(f\"question: \\n{query_sent}\")\n",
    "    print(f\"true_answer: \\n{true_answer}\")\n",
    "    print(f\"true_sim_score: \\n{true_sim_score[0]}\")\n",
    "    \n",
    "#     df_ = df[df.index!=i]\n",
    "    cross_sim_score = get_similarity([query_emb]*num_ans, df['Answer_Emb'].values, shuffle=False)\n",
    "    max_score = np.max(cross_sim_score)\n",
    "    max_score_ind = np.argmax(cross_sim_score)\n",
    "    max_answer = df.iloc[max_score_ind]['Answer']\n",
    "    \n",
    "    print('-----------------------')\n",
    "    print(f\"predicted_answer: \\n{max_answer}\")\n",
    "    print(f\"predicted_score: \\n{max_score}\")\n",
    "    \n",
    "    print(\"########################################################\")"
   ]
  },
  {
   "cell_type": "code",
   "execution_count": null,
   "id": "5a0eab3c",
   "metadata": {},
   "outputs": [],
   "source": [
    "# def top_answers_finder(model, an_emb_list, query_sent, M=10):\n",
    "#     query_emb = model.encode(query_sent, convert_to_tensor=True)\n",
    "#     query_emb = query_emb.cpu().detach().numpy().tolist()\n",
    "#     query_ans_sim = get_similarity(query_emb, np.transpose(an_emb_list))[0]\n",
    "#     top_answers_inds = np.argpartition(-query_ans_sim, range(M))[0:M]\n",
    "#     return top_answers, query_ans_sim"
   ]
  },
  {
   "cell_type": "code",
   "execution_count": null,
   "id": "b6670386",
   "metadata": {
    "scrolled": false
   },
   "outputs": [],
   "source": [
    "# num_top_answers = 1 # = M\n",
    "# for i, sample_query in enumerate(sample_queries):\n",
    "#     print(f'\\n... Get the top {num_top_answers} answers for the sample query {i} which is: ')\n",
    "#     print(f\"Sample query:\\n{sample_query}\")\n",
    "#     print(f\"True answer is:\\n{true_answers[i]}\")\n",
    "    \n",
    "#     top_answers_inds, query_ans_sim = top_answers_finder(model, an_emb_list, sample_query, M=num_top_answers)\n",
    "#     print(f\"\\n... Top {num_top_answers} similar event_descriptions are:\\n\")\n",
    "#     for j, ind in enumerate(top_answers_inds):\n",
    "#         print(f\"{j+1}: (Score: {query_ans_sim[j]:1.4})\")\n",
    "#         print(f\"Predicted answer is: \\n{df.iloc[top_answers_inds[j]]['Answer']}\\n\")\n",
    "#         print('--------------------------------------------------')"
   ]
  },
  {
   "cell_type": "code",
   "execution_count": null,
   "id": "638e71a0",
   "metadata": {},
   "outputs": [],
   "source": []
  }
 ],
 "metadata": {
  "kernelspec": {
   "display_name": "Python 3",
   "language": "python",
   "name": "python3"
  },
  "language_info": {
   "codemirror_mode": {
    "name": "ipython",
    "version": 3
   },
   "file_extension": ".py",
   "mimetype": "text/x-python",
   "name": "python",
   "nbconvert_exporter": "python",
   "pygments_lexer": "ipython3",
   "version": "3.9.4"
  }
 },
 "nbformat": 4,
 "nbformat_minor": 5
}
